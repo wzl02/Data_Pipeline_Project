{
 "cells": [
  {
   "cell_type": "markdown",
   "metadata": {
    "application/vnd.databricks.v1+cell": {
     "cellMetadata": {},
     "inputWidgets": {},
     "nuid": "25e04e56-af7b-4f16-bf6f-97040bd9a92c",
     "showTitle": false,
     "title": ""
    }
   },
   "source": [
    "Data Capturing"
   ]
  },
  {
   "cell_type": "markdown",
   "metadata": {
    "application/vnd.databricks.v1+cell": {
     "cellMetadata": {},
     "inputWidgets": {},
     "nuid": "301254ce-9cd2-4ec2-8a35-7f0adf8da365",
     "showTitle": false,
     "title": ""
    }
   },
   "source": [
    "Ensuring datasets is in databricks\n"
   ]
  },
  {
   "cell_type": "code",
   "execution_count": 0,
   "metadata": {
    "application/vnd.databricks.v1+cell": {
     "cellMetadata": {
      "byteLimit": 2048000,
      "rowLimit": 10000
     },
     "inputWidgets": {},
     "nuid": "4755c4d5-4988-4179-9dc0-27c3184e3bb5",
     "showTitle": false,
     "title": ""
    }
   },
   "outputs": [
    {
     "output_type": "display_data",
     "data": {
      "text/html": [
       "<style scoped>\n",
       "  .table-result-container {\n",
       "    max-height: 300px;\n",
       "    overflow: auto;\n",
       "  }\n",
       "  table, th, td {\n",
       "    border: 1px solid black;\n",
       "    border-collapse: collapse;\n",
       "  }\n",
       "  th, td {\n",
       "    padding: 5px;\n",
       "  }\n",
       "  th {\n",
       "    text-align: left;\n",
       "  }\n",
       "</style><div class='table-result-container'><table class='table-result'><thead style='background-color: white'><tr><th>path</th><th>name</th><th>size</th><th>modificationTime</th></tr></thead><tbody><tr><td>dbfs:/FileStore/tables/LifeExp.csv</td><td>LifeExp.csv</td><td>4376</td><td>1710383147000</td></tr><tr><td>dbfs:/FileStore/tables/LifeExp_headers.csv</td><td>LifeExp_headers.csv</td><td>4400</td><td>1710383151000</td></tr><tr><td>dbfs:/FileStore/tables/advert.csv</td><td>advert.csv</td><td>10926</td><td>1710382601000</td></tr><tr><td>dbfs:/FileStore/tables/auto1.parquet</td><td>auto1.parquet</td><td>1177</td><td>1710382601000</td></tr><tr><td>dbfs:/FileStore/tables/autos.csv</td><td>autos.csv</td><td>68439217</td><td>1710382718000</td></tr><tr><td>dbfs:/FileStore/tables/cops_02_snappy.parquet</td><td>cops_02_snappy.parquet</td><td>45972543</td><td>1710382684000</td></tr><tr><td>dbfs:/FileStore/tables/cops_03_snappy.parquet</td><td>cops_03_snappy.parquet</td><td>45972543</td><td>1710382771000</td></tr><tr><td>dbfs:/FileStore/tables/dept.csv</td><td>dept.csv</td><td>302</td><td>1710382722000</td></tr><tr><td>dbfs:/FileStore/tables/dept_snappy.parquet</td><td>dept_snappy.parquet</td><td>1269</td><td>1710382725000</td></tr><tr><td>dbfs:/FileStore/tables/emp1.parquet</td><td>emp1.parquet</td><td>2953</td><td>1710382730000</td></tr><tr><td>dbfs:/FileStore/tables/emp_snappy.parquet</td><td>emp_snappy.parquet</td><td>2913</td><td>1710382727000</td></tr><tr><td>dbfs:/FileStore/tables/fire_callsX_comma.csv</td><td>fire_callsX_comma.csv</td><td>141412467</td><td>1710383129000</td></tr><tr><td>dbfs:/FileStore/tables/fly1.parquet</td><td>fly1.parquet</td><td>1471850</td><td>1710382776000</td></tr><tr><td>dbfs:/FileStore/tables/header_airports.csv</td><td>header_airports.csv</td><td>205888</td><td>1710382779000</td></tr><tr><td>dbfs:/FileStore/tables/header_carriers.csv</td><td>header_carriers.csv</td><td>37794</td><td>1710382783000</td></tr><tr><td>dbfs:/FileStore/tables/header_flights.csv</td><td>header_flights.csv</td><td>136035443</td><td>1710383162000</td></tr><tr><td>dbfs:/FileStore/tables/header_flights_abbr.csv</td><td>header_flights_abbr.csv</td><td>32327</td><td>1710383132000</td></tr><tr><td>dbfs:/FileStore/tables/header_planes.csv</td><td>header_planes.csv</td><td>432996</td><td>1710383135000</td></tr><tr><td>dbfs:/FileStore/tables/heart1.csv</td><td>heart1.csv</td><td>11087</td><td>1710383137000</td></tr><tr><td>dbfs:/FileStore/tables/hour.csv</td><td>hour.csv</td><td>1156736</td><td>1710383142000</td></tr><tr><td>dbfs:/FileStore/tables/lincoln.txt</td><td>lincoln.txt</td><td>1472</td><td>1710383154000</td></tr><tr><td>dbfs:/FileStore/tables/mary.txt</td><td>mary.txt</td><td>106</td><td>1710383158000</td></tr><tr><td>dbfs:/FileStore/tables/movieid.txt</td><td>movieid.txt</td><td>236435</td><td>1710383160000</td></tr><tr><td>dbfs:/FileStore/tables/movielens_ratings.txt</td><td>movielens_ratings.txt</td><td>29391</td><td>1710383161000</td></tr><tr><td>dbfs:/FileStore/tables/names1.csv</td><td>names1.csv</td><td>81</td><td>1710383161000</td></tr><tr><td>dbfs:/FileStore/tables/names1.json</td><td>names1.json</td><td>263</td><td>1710383162000</td></tr><tr><td>dbfs:/FileStore/tables/neighbooddistricts.csv</td><td>neighbooddistricts.csv</td><td>629</td><td>1710383162000</td></tr><tr><td>dbfs:/FileStore/tables/olist_customers_dataset-1.csv</td><td>olist_customers_dataset-1.csv</td><td>9033957</td><td>1711680991000</td></tr><tr><td>dbfs:/FileStore/tables/olist_customers_dataset-2.csv</td><td>olist_customers_dataset-2.csv</td><td>9033957</td><td>1711681545000</td></tr><tr><td>dbfs:/FileStore/tables/olist_customers_dataset-3.csv</td><td>olist_customers_dataset-3.csv</td><td>9033957</td><td>1711681818000</td></tr><tr><td>dbfs:/FileStore/tables/olist_customers_dataset.csv</td><td>olist_customers_dataset.csv</td><td>9033957</td><td>1711680280000</td></tr><tr><td>dbfs:/FileStore/tables/olist_geolocation_dataset-1.csv</td><td>olist_geolocation_dataset-1.csv</td><td>61273883</td><td>1711681579000</td></tr><tr><td>dbfs:/FileStore/tables/olist_geolocation_dataset-2.csv</td><td>olist_geolocation_dataset-2.csv</td><td>61273883</td><td>1711681845000</td></tr><tr><td>dbfs:/FileStore/tables/olist_geolocation_dataset.csv</td><td>olist_geolocation_dataset.csv</td><td>61273883</td><td>1711680302000</td></tr><tr><td>dbfs:/FileStore/tables/olist_order_items_dataset-1.csv</td><td>olist_order_items_dataset-1.csv</td><td>15438671</td><td>1711681566000</td></tr><tr><td>dbfs:/FileStore/tables/olist_order_items_dataset-2.csv</td><td>olist_order_items_dataset-2.csv</td><td>15438671</td><td>1711681828000</td></tr><tr><td>dbfs:/FileStore/tables/olist_order_items_dataset.csv</td><td>olist_order_items_dataset.csv</td><td>15438671</td><td>1711680289000</td></tr><tr><td>dbfs:/FileStore/tables/olist_order_payments_dataset-1.csv</td><td>olist_order_payments_dataset-1.csv</td><td>5777138</td><td>1711680999000</td></tr><tr><td>dbfs:/FileStore/tables/olist_order_payments_dataset-2.csv</td><td>olist_order_payments_dataset-2.csv</td><td>5777138</td><td>1711681569000</td></tr><tr><td>dbfs:/FileStore/tables/olist_order_payments_dataset-3.csv</td><td>olist_order_payments_dataset-3.csv</td><td>5777138</td><td>1711681832000</td></tr><tr><td>dbfs:/FileStore/tables/olist_order_payments_dataset.csv</td><td>olist_order_payments_dataset.csv</td><td>5777138</td><td>1711680292000</td></tr><tr><td>dbfs:/FileStore/tables/olist_order_reviews_dataset-1.csv</td><td>olist_order_reviews_dataset-1.csv</td><td>14451670</td><td>1711681575000</td></tr><tr><td>dbfs:/FileStore/tables/olist_order_reviews_dataset-2.csv</td><td>olist_order_reviews_dataset-2.csv</td><td>14451670</td><td>1711681839000</td></tr><tr><td>dbfs:/FileStore/tables/olist_order_reviews_dataset.csv</td><td>olist_order_reviews_dataset.csv</td><td>14451670</td><td>1711680297000</td></tr><tr><td>dbfs:/FileStore/tables/olist_orders_dataset-1.csv</td><td>olist_orders_dataset-1.csv</td><td>17654914</td><td>1711681007000</td></tr><tr><td>dbfs:/FileStore/tables/olist_orders_dataset-2.csv</td><td>olist_orders_dataset-2.csv</td><td>17654914</td><td>1711681581000</td></tr><tr><td>dbfs:/FileStore/tables/olist_orders_dataset-3.csv</td><td>olist_orders_dataset-3.csv</td><td>17654914</td><td>1711681848000</td></tr><tr><td>dbfs:/FileStore/tables/olist_orders_dataset.csv</td><td>olist_orders_dataset.csv</td><td>17654914</td><td>1711680306000</td></tr><tr><td>dbfs:/FileStore/tables/olist_products_dataset-1.csv</td><td>olist_products_dataset-1.csv</td><td>2379446</td><td>1711681004000</td></tr><tr><td>dbfs:/FileStore/tables/olist_products_dataset-2.csv</td><td>olist_products_dataset-2.csv</td><td>2379446</td><td>1711681581000</td></tr><tr><td>dbfs:/FileStore/tables/olist_products_dataset-3.csv</td><td>olist_products_dataset-3.csv</td><td>2379446</td><td>1711681847000</td></tr><tr><td>dbfs:/FileStore/tables/olist_products_dataset.csv</td><td>olist_products_dataset.csv</td><td>2379446</td><td>1711680304000</td></tr><tr><td>dbfs:/FileStore/tables/olist_sellers_dataset-1.csv</td><td>olist_sellers_dataset-1.csv</td><td>174703</td><td>1711681006000</td></tr><tr><td>dbfs:/FileStore/tables/olist_sellers_dataset-2.csv</td><td>olist_sellers_dataset-2.csv</td><td>174703</td><td>1711681581000</td></tr><tr><td>dbfs:/FileStore/tables/olist_sellers_dataset-3.csv</td><td>olist_sellers_dataset-3.csv</td><td>174703</td><td>1711681847000</td></tr><tr><td>dbfs:/FileStore/tables/olist_sellers_dataset.csv</td><td>olist_sellers_dataset.csv</td><td>174703</td><td>1711680305000</td></tr><tr><td>dbfs:/FileStore/tables/school1.parquet</td><td>school1.parquet</td><td>982</td><td>1710383163000</td></tr><tr><td>dbfs:/FileStore/tables/sfpd1/</td><td>sfpd1/</td><td>0</td><td>0</td></tr><tr><td>dbfs:/FileStore/tables/site02_2014_01.csv</td><td>site02_2014_01.csv</td><td>4379667</td><td>1710401429000</td></tr><tr><td>dbfs:/FileStore/tables/site02_2014_01__1_.csv</td><td>site02_2014_01__1_.csv</td><td>4379667</td><td>1711113041000</td></tr><tr><td>dbfs:/FileStore/tables/site02_2014_02.csv</td><td>site02_2014_02.csv</td><td>3485915</td><td>1710401428000</td></tr><tr><td>dbfs:/FileStore/tables/site02_2014_02__1_.csv</td><td>site02_2014_02__1_.csv</td><td>3485915</td><td>1711113040000</td></tr><tr><td>dbfs:/FileStore/tables/state_city.json</td><td>state_city.json</td><td>156</td><td>1710383163000</td></tr><tr><td>dbfs:/FileStore/tables/stream1/</td><td>stream1/</td><td>0</td><td>0</td></tr><tr><td>dbfs:/FileStore/tables/teams.csv</td><td>teams.csv</td><td>524526</td><td>1710383164000</td></tr><tr><td>dbfs:/FileStore/tables/temp1.parquet</td><td>temp1.parquet</td><td>1043</td><td>1710383165000</td></tr><tr><td>dbfs:/FileStore/tables/temp_array_null.parquet</td><td>temp_array_null.parquet</td><td>1038</td><td>1710383164000</td></tr><tr><td>dbfs:/FileStore/tables/titanic_master.txt</td><td>titanic_master.txt</td><td>61197</td><td>1710383165000</td></tr><tr><td>dbfs:/FileStore/tables/u.data</td><td>u.data</td><td>1979173</td><td>1710383167000</td></tr><tr><td>dbfs:/FileStore/tables/u.item</td><td>u.item</td><td>236344</td><td>1710383167000</td></tr><tr><td>dbfs:/FileStore/tables/webevent.csv</td><td>webevent.csv</td><td>47898</td><td>1710383168000</td></tr></tbody></table></div>"
      ]
     },
     "metadata": {
      "application/vnd.databricks.v1+output": {
       "addedWidgets": {},
       "aggData": [],
       "aggError": "",
       "aggOverflow": false,
       "aggSchema": [],
       "aggSeriesLimitReached": false,
       "aggType": "",
       "arguments": {},
       "columnCustomDisplayInfos": {},
       "data": [
        [
         "dbfs:/FileStore/tables/LifeExp.csv",
         "LifeExp.csv",
         4376,
         1710383147000
        ],
        [
         "dbfs:/FileStore/tables/LifeExp_headers.csv",
         "LifeExp_headers.csv",
         4400,
         1710383151000
        ],
        [
         "dbfs:/FileStore/tables/advert.csv",
         "advert.csv",
         10926,
         1710382601000
        ],
        [
         "dbfs:/FileStore/tables/auto1.parquet",
         "auto1.parquet",
         1177,
         1710382601000
        ],
        [
         "dbfs:/FileStore/tables/autos.csv",
         "autos.csv",
         68439217,
         1710382718000
        ],
        [
         "dbfs:/FileStore/tables/cops_02_snappy.parquet",
         "cops_02_snappy.parquet",
         45972543,
         1710382684000
        ],
        [
         "dbfs:/FileStore/tables/cops_03_snappy.parquet",
         "cops_03_snappy.parquet",
         45972543,
         1710382771000
        ],
        [
         "dbfs:/FileStore/tables/dept.csv",
         "dept.csv",
         302,
         1710382722000
        ],
        [
         "dbfs:/FileStore/tables/dept_snappy.parquet",
         "dept_snappy.parquet",
         1269,
         1710382725000
        ],
        [
         "dbfs:/FileStore/tables/emp1.parquet",
         "emp1.parquet",
         2953,
         1710382730000
        ],
        [
         "dbfs:/FileStore/tables/emp_snappy.parquet",
         "emp_snappy.parquet",
         2913,
         1710382727000
        ],
        [
         "dbfs:/FileStore/tables/fire_callsX_comma.csv",
         "fire_callsX_comma.csv",
         141412467,
         1710383129000
        ],
        [
         "dbfs:/FileStore/tables/fly1.parquet",
         "fly1.parquet",
         1471850,
         1710382776000
        ],
        [
         "dbfs:/FileStore/tables/header_airports.csv",
         "header_airports.csv",
         205888,
         1710382779000
        ],
        [
         "dbfs:/FileStore/tables/header_carriers.csv",
         "header_carriers.csv",
         37794,
         1710382783000
        ],
        [
         "dbfs:/FileStore/tables/header_flights.csv",
         "header_flights.csv",
         136035443,
         1710383162000
        ],
        [
         "dbfs:/FileStore/tables/header_flights_abbr.csv",
         "header_flights_abbr.csv",
         32327,
         1710383132000
        ],
        [
         "dbfs:/FileStore/tables/header_planes.csv",
         "header_planes.csv",
         432996,
         1710383135000
        ],
        [
         "dbfs:/FileStore/tables/heart1.csv",
         "heart1.csv",
         11087,
         1710383137000
        ],
        [
         "dbfs:/FileStore/tables/hour.csv",
         "hour.csv",
         1156736,
         1710383142000
        ],
        [
         "dbfs:/FileStore/tables/lincoln.txt",
         "lincoln.txt",
         1472,
         1710383154000
        ],
        [
         "dbfs:/FileStore/tables/mary.txt",
         "mary.txt",
         106,
         1710383158000
        ],
        [
         "dbfs:/FileStore/tables/movieid.txt",
         "movieid.txt",
         236435,
         1710383160000
        ],
        [
         "dbfs:/FileStore/tables/movielens_ratings.txt",
         "movielens_ratings.txt",
         29391,
         1710383161000
        ],
        [
         "dbfs:/FileStore/tables/names1.csv",
         "names1.csv",
         81,
         1710383161000
        ],
        [
         "dbfs:/FileStore/tables/names1.json",
         "names1.json",
         263,
         1710383162000
        ],
        [
         "dbfs:/FileStore/tables/neighbooddistricts.csv",
         "neighbooddistricts.csv",
         629,
         1710383162000
        ],
        [
         "dbfs:/FileStore/tables/olist_customers_dataset-1.csv",
         "olist_customers_dataset-1.csv",
         9033957,
         1711680991000
        ],
        [
         "dbfs:/FileStore/tables/olist_customers_dataset-2.csv",
         "olist_customers_dataset-2.csv",
         9033957,
         1711681545000
        ],
        [
         "dbfs:/FileStore/tables/olist_customers_dataset-3.csv",
         "olist_customers_dataset-3.csv",
         9033957,
         1711681818000
        ],
        [
         "dbfs:/FileStore/tables/olist_customers_dataset.csv",
         "olist_customers_dataset.csv",
         9033957,
         1711680280000
        ],
        [
         "dbfs:/FileStore/tables/olist_geolocation_dataset-1.csv",
         "olist_geolocation_dataset-1.csv",
         61273883,
         1711681579000
        ],
        [
         "dbfs:/FileStore/tables/olist_geolocation_dataset-2.csv",
         "olist_geolocation_dataset-2.csv",
         61273883,
         1711681845000
        ],
        [
         "dbfs:/FileStore/tables/olist_geolocation_dataset.csv",
         "olist_geolocation_dataset.csv",
         61273883,
         1711680302000
        ],
        [
         "dbfs:/FileStore/tables/olist_order_items_dataset-1.csv",
         "olist_order_items_dataset-1.csv",
         15438671,
         1711681566000
        ],
        [
         "dbfs:/FileStore/tables/olist_order_items_dataset-2.csv",
         "olist_order_items_dataset-2.csv",
         15438671,
         1711681828000
        ],
        [
         "dbfs:/FileStore/tables/olist_order_items_dataset.csv",
         "olist_order_items_dataset.csv",
         15438671,
         1711680289000
        ],
        [
         "dbfs:/FileStore/tables/olist_order_payments_dataset-1.csv",
         "olist_order_payments_dataset-1.csv",
         5777138,
         1711680999000
        ],
        [
         "dbfs:/FileStore/tables/olist_order_payments_dataset-2.csv",
         "olist_order_payments_dataset-2.csv",
         5777138,
         1711681569000
        ],
        [
         "dbfs:/FileStore/tables/olist_order_payments_dataset-3.csv",
         "olist_order_payments_dataset-3.csv",
         5777138,
         1711681832000
        ],
        [
         "dbfs:/FileStore/tables/olist_order_payments_dataset.csv",
         "olist_order_payments_dataset.csv",
         5777138,
         1711680292000
        ],
        [
         "dbfs:/FileStore/tables/olist_order_reviews_dataset-1.csv",
         "olist_order_reviews_dataset-1.csv",
         14451670,
         1711681575000
        ],
        [
         "dbfs:/FileStore/tables/olist_order_reviews_dataset-2.csv",
         "olist_order_reviews_dataset-2.csv",
         14451670,
         1711681839000
        ],
        [
         "dbfs:/FileStore/tables/olist_order_reviews_dataset.csv",
         "olist_order_reviews_dataset.csv",
         14451670,
         1711680297000
        ],
        [
         "dbfs:/FileStore/tables/olist_orders_dataset-1.csv",
         "olist_orders_dataset-1.csv",
         17654914,
         1711681007000
        ],
        [
         "dbfs:/FileStore/tables/olist_orders_dataset-2.csv",
         "olist_orders_dataset-2.csv",
         17654914,
         1711681581000
        ],
        [
         "dbfs:/FileStore/tables/olist_orders_dataset-3.csv",
         "olist_orders_dataset-3.csv",
         17654914,
         1711681848000
        ],
        [
         "dbfs:/FileStore/tables/olist_orders_dataset.csv",
         "olist_orders_dataset.csv",
         17654914,
         1711680306000
        ],
        [
         "dbfs:/FileStore/tables/olist_products_dataset-1.csv",
         "olist_products_dataset-1.csv",
         2379446,
         1711681004000
        ],
        [
         "dbfs:/FileStore/tables/olist_products_dataset-2.csv",
         "olist_products_dataset-2.csv",
         2379446,
         1711681581000
        ],
        [
         "dbfs:/FileStore/tables/olist_products_dataset-3.csv",
         "olist_products_dataset-3.csv",
         2379446,
         1711681847000
        ],
        [
         "dbfs:/FileStore/tables/olist_products_dataset.csv",
         "olist_products_dataset.csv",
         2379446,
         1711680304000
        ],
        [
         "dbfs:/FileStore/tables/olist_sellers_dataset-1.csv",
         "olist_sellers_dataset-1.csv",
         174703,
         1711681006000
        ],
        [
         "dbfs:/FileStore/tables/olist_sellers_dataset-2.csv",
         "olist_sellers_dataset-2.csv",
         174703,
         1711681581000
        ],
        [
         "dbfs:/FileStore/tables/olist_sellers_dataset-3.csv",
         "olist_sellers_dataset-3.csv",
         174703,
         1711681847000
        ],
        [
         "dbfs:/FileStore/tables/olist_sellers_dataset.csv",
         "olist_sellers_dataset.csv",
         174703,
         1711680305000
        ],
        [
         "dbfs:/FileStore/tables/school1.parquet",
         "school1.parquet",
         982,
         1710383163000
        ],
        [
         "dbfs:/FileStore/tables/sfpd1/",
         "sfpd1/",
         0,
         0
        ],
        [
         "dbfs:/FileStore/tables/site02_2014_01.csv",
         "site02_2014_01.csv",
         4379667,
         1710401429000
        ],
        [
         "dbfs:/FileStore/tables/site02_2014_01__1_.csv",
         "site02_2014_01__1_.csv",
         4379667,
         1711113041000
        ],
        [
         "dbfs:/FileStore/tables/site02_2014_02.csv",
         "site02_2014_02.csv",
         3485915,
         1710401428000
        ],
        [
         "dbfs:/FileStore/tables/site02_2014_02__1_.csv",
         "site02_2014_02__1_.csv",
         3485915,
         1711113040000
        ],
        [
         "dbfs:/FileStore/tables/state_city.json",
         "state_city.json",
         156,
         1710383163000
        ],
        [
         "dbfs:/FileStore/tables/stream1/",
         "stream1/",
         0,
         0
        ],
        [
         "dbfs:/FileStore/tables/teams.csv",
         "teams.csv",
         524526,
         1710383164000
        ],
        [
         "dbfs:/FileStore/tables/temp1.parquet",
         "temp1.parquet",
         1043,
         1710383165000
        ],
        [
         "dbfs:/FileStore/tables/temp_array_null.parquet",
         "temp_array_null.parquet",
         1038,
         1710383164000
        ],
        [
         "dbfs:/FileStore/tables/titanic_master.txt",
         "titanic_master.txt",
         61197,
         1710383165000
        ],
        [
         "dbfs:/FileStore/tables/u.data",
         "u.data",
         1979173,
         1710383167000
        ],
        [
         "dbfs:/FileStore/tables/u.item",
         "u.item",
         236344,
         1710383167000
        ],
        [
         "dbfs:/FileStore/tables/webevent.csv",
         "webevent.csv",
         47898,
         1710383168000
        ]
       ],
       "datasetInfos": [],
       "dbfsResultPath": null,
       "isJsonSchema": true,
       "metadata": {},
       "overflow": false,
       "plotOptions": {
        "customPlotOptions": {},
        "displayType": "table",
        "pivotAggregation": null,
        "pivotColumns": null,
        "xColumns": null,
        "yColumns": null
       },
       "removedWidgets": [],
       "schema": [
        {
         "metadata": "{}",
         "name": "path",
         "type": "\"string\""
        },
        {
         "metadata": "{}",
         "name": "name",
         "type": "\"string\""
        },
        {
         "metadata": "{}",
         "name": "size",
         "type": "\"long\""
        },
        {
         "metadata": "{}",
         "name": "modificationTime",
         "type": "\"long\""
        }
       ],
       "type": "table"
      }
     },
     "output_type": "display_data"
    }
   ],
   "source": [
    "display(dbutils.fs.ls(\"/FileStore/tables/\")) "
   ]
  },
  {
   "cell_type": "markdown",
   "metadata": {
    "application/vnd.databricks.v1+cell": {
     "cellMetadata": {},
     "inputWidgets": {},
     "nuid": "f02a9c4b-b9d4-4f77-8ca5-5747eee1ad9c",
     "showTitle": false,
     "title": ""
    }
   },
   "source": [
    "loading data tables into dataframe"
   ]
  },
  {
   "cell_type": "code",
   "execution_count": 0,
   "metadata": {
    "application/vnd.databricks.v1+cell": {
     "cellMetadata": {
      "byteLimit": 2048000,
      "rowLimit": 10000
     },
     "inputWidgets": {},
     "nuid": "46226073-ab5b-4d6f-9584-6905669f4f68",
     "showTitle": false,
     "title": ""
    }
   },
   "outputs": [],
   "source": [
    "customers_df = spark.read.load(\"dbfs:/FileStore/tables/olist_customers_dataset.csv\", format=\"csv\", header=True, inferSchema=True)\n",
    "geolocation_df = spark.read.load(\"dbfs:/FileStore/tables/olist_geolocation_dataset.csv\", format=\"csv\", header=True, inferSchema=True)\n",
    "order_items_df = spark.read.load(\"dbfs:/FileStore/tables/olist_order_items_dataset.csv\", format=\"csv\", header=True, inferSchema=True)\n",
    "order_payments_df = spark.read.load(\"dbfs:/FileStore/tables/olist_order_payments_dataset.csv\", format=\"csv\", header=True, inferSchema=True)\n",
    "order_reviews_df = spark.read.load(\"dbfs:/FileStore/tables/olist_order_reviews_dataset.csv\", format=\"csv\", header=True, inferSchema=True)\n",
    "orders_df = spark.read.load(\"dbfs:/FileStore/tables/olist_orders_dataset.csv\", format=\"csv\", header=True, inferSchema=True)\n",
    "products_df = spark.read.load(\"dbfs:/FileStore/tables/olist_products_dataset.csv\", format=\"csv\", header=True, inferSchema=True)\n",
    "sellers_df = spark.read.load(\"dbfs:/FileStore/tables/olist_sellers_dataset.csv\", format=\"csv\", header=True, inferSchema=True)\n",
    "\n"
   ]
  },
  {
   "cell_type": "markdown",
   "metadata": {
    "application/vnd.databricks.v1+cell": {
     "cellMetadata": {},
     "inputWidgets": {},
     "nuid": "d55cabeb-49f4-48eb-abc3-8f57680cebd2",
     "showTitle": false,
     "title": ""
    }
   },
   "source": [
    "looking through schema and first few rows of data"
   ]
  },
  {
   "cell_type": "code",
   "execution_count": 0,
   "metadata": {
    "application/vnd.databricks.v1+cell": {
     "cellMetadata": {
      "byteLimit": 2048000,
      "rowLimit": 10000
     },
     "inputWidgets": {},
     "nuid": "cd4483a5-567b-45d2-8bf2-3ea9f287c3b4",
     "showTitle": false,
     "title": ""
    }
   },
   "outputs": [
    {
     "output_type": "stream",
     "name": "stdout",
     "output_type": "stream",
     "text": [
      "root\n |-- customer_id: string (nullable = true)\n |-- customer_unique_id: string (nullable = true)\n |-- customer_zip_code_prefix: integer (nullable = true)\n |-- customer_city: string (nullable = true)\n |-- customer_state: string (nullable = true)\n\nroot\n |-- geolocation_zip_code_prefix: integer (nullable = true)\n |-- geolocation_lat: double (nullable = true)\n |-- geolocation_lng: double (nullable = true)\n |-- geolocation_city: string (nullable = true)\n |-- geolocation_state: string (nullable = true)\n\nroot\n |-- order_id: string (nullable = true)\n |-- order_item_id: integer (nullable = true)\n |-- product_id: string (nullable = true)\n |-- seller_id: string (nullable = true)\n |-- shipping_limit_date: timestamp (nullable = true)\n |-- price: double (nullable = true)\n |-- freight_value: double (nullable = true)\n\nroot\n |-- order_id: string (nullable = true)\n |-- payment_sequential: integer (nullable = true)\n |-- payment_type: string (nullable = true)\n |-- payment_installments: integer (nullable = true)\n |-- payment_value: double (nullable = true)\n\nroot\n |-- review_id: string (nullable = true)\n |-- order_id: string (nullable = true)\n |-- review_score: string (nullable = true)\n |-- review_comment_title: string (nullable = true)\n |-- review_comment_message: string (nullable = true)\n |-- review_creation_date: string (nullable = true)\n |-- review_answer_timestamp: string (nullable = true)\n\nroot\n |-- order_id: string (nullable = true)\n |-- customer_id: string (nullable = true)\n |-- order_status: string (nullable = true)\n |-- order_purchase_timestamp: timestamp (nullable = true)\n |-- order_approved_at: timestamp (nullable = true)\n |-- order_delivered_carrier_date: timestamp (nullable = true)\n |-- order_delivered_customer_date: timestamp (nullable = true)\n |-- order_estimated_delivery_date: timestamp (nullable = true)\n\nroot\n |-- product_id: string (nullable = true)\n |-- product_category_name: string (nullable = true)\n |-- product_name_lenght: integer (nullable = true)\n |-- product_description_lenght: integer (nullable = true)\n |-- product_photos_qty: integer (nullable = true)\n |-- product_weight_g: integer (nullable = true)\n |-- product_length_cm: integer (nullable = true)\n |-- product_height_cm: integer (nullable = true)\n |-- product_width_cm: integer (nullable = true)\n\nroot\n |-- seller_id: string (nullable = true)\n |-- seller_zip_code_prefix: integer (nullable = true)\n |-- seller_city: string (nullable = true)\n |-- seller_state: string (nullable = true)\n\n"
     ]
    }
   ],
   "source": [
    "customers_df.printSchema()\n",
    "geolocation_df.printSchema()\n",
    "order_items_df.printSchema()\n",
    "order_payments_df.printSchema()\n",
    "order_reviews_df.printSchema()\n",
    "orders_df.printSchema()\n",
    "products_df.printSchema()\n",
    "sellers_df.printSchema()\n"
   ]
  },
  {
   "cell_type": "code",
   "execution_count": 0,
   "metadata": {
    "application/vnd.databricks.v1+cell": {
     "cellMetadata": {
      "byteLimit": 2048000,
      "rowLimit": 10000
     },
     "inputWidgets": {},
     "nuid": "c6b21d45-db8c-4e76-a56b-65f2b29dbe34",
     "showTitle": false,
     "title": ""
    }
   },
   "outputs": [
    {
     "output_type": "stream",
     "name": "stdout",
     "output_type": "stream",
     "text": [
      "+--------------------+--------------------+------------------------+--------------------+--------------+\n|         customer_id|  customer_unique_id|customer_zip_code_prefix|       customer_city|customer_state|\n+--------------------+--------------------+------------------------+--------------------+--------------+\n|06b8999e2fba1a1fb...|861eff4711a542e4b...|                   14409|              franca|            SP|\n|18955e83d337fd6b2...|290c77bc529b7ac93...|                    9790|sao bernardo do c...|            SP|\n|4e7b3e00288586ebd...|060e732b5b29e8181...|                    1151|           sao paulo|            SP|\n|b2b6027bc5c5109e5...|259dac757896d24d7...|                    8775|     mogi das cruzes|            SP|\n|4f2d8ab171c80ec83...|345ecd01c38d18a90...|                   13056|            campinas|            SP|\n+--------------------+--------------------+------------------------+--------------------+--------------+\nonly showing top 5 rows\n\n+---------------------------+-------------------+------------------+----------------+-----------------+\n|geolocation_zip_code_prefix|    geolocation_lat|   geolocation_lng|geolocation_city|geolocation_state|\n+---------------------------+-------------------+------------------+----------------+-----------------+\n|                       1037| -23.54562128115268|-46.63929204800168|       sao paulo|               SP|\n|                       1046|-23.546081127035535|-46.64482029837157|       sao paulo|               SP|\n|                       1046| -23.54612896641469|-46.64295148361138|       sao paulo|               SP|\n|                       1041|  -23.5443921648681|-46.63949930627844|       sao paulo|               SP|\n|                       1035|-23.541577961711493|-46.64160722329613|       sao paulo|               SP|\n+---------------------------+-------------------+------------------+----------------+-----------------+\nonly showing top 5 rows\n\n+--------------------+-------------+--------------------+--------------------+-------------------+-----+-------------+\n|            order_id|order_item_id|          product_id|           seller_id|shipping_limit_date|price|freight_value|\n+--------------------+-------------+--------------------+--------------------+-------------------+-----+-------------+\n|00010242fe8c5a6d1...|            1|4244733e06e7ecb49...|48436dade18ac8b2b...|2017-09-19 09:45:35| 58.9|        13.29|\n|00018f77f2f0320c5...|            1|e5f2d52b802189ee6...|dd7ddc04e1b6c2c61...|2017-05-03 11:05:13|239.9|        19.93|\n|000229ec398224ef6...|            1|c777355d18b72b67a...|5b51032eddd242adc...|2018-01-18 14:48:30|199.0|        17.87|\n|00024acbcdf0a6daa...|            1|7634da152a4610f15...|9d7a1d34a50524090...|2018-08-15 10:10:18|12.99|        12.79|\n|00042b26cf59d7ce6...|            1|ac6c3623068f30de0...|df560393f3a51e745...|2017-02-13 13:57:51|199.9|        18.14|\n+--------------------+-------------+--------------------+--------------------+-------------------+-----+-------------+\nonly showing top 5 rows\n\n+--------------------+------------------+------------+--------------------+-------------+\n|            order_id|payment_sequential|payment_type|payment_installments|payment_value|\n+--------------------+------------------+------------+--------------------+-------------+\n|b81ef226f3fe1789b...|                 1| credit_card|                   8|        99.33|\n|a9810da82917af2d9...|                 1| credit_card|                   1|        24.39|\n|25e8ea4e93396b6fa...|                 1| credit_card|                   1|        65.71|\n|ba78997921bbcdc13...|                 1| credit_card|                   8|       107.78|\n|42fdf880ba16b47b5...|                 1| credit_card|                   2|       128.45|\n+--------------------+------------------+------------+--------------------+-------------+\nonly showing top 5 rows\n\n+--------------------+--------------------+------------+--------------------+----------------------+--------------------+-----------------------+\n|           review_id|            order_id|review_score|review_comment_title|review_comment_message|review_creation_date|review_answer_timestamp|\n+--------------------+--------------------+------------+--------------------+----------------------+--------------------+-----------------------+\n|7bc2406110b926393...|73fc7af87114b3971...|           4|                null|                  null| 2018-01-18 00:00:00|    2018-01-18 21:46:59|\n|80e641a11e56f04c1...|a548910a1c6147796...|           5|                null|                  null| 2018-03-10 00:00:00|    2018-03-11 03:05:13|\n|228ce5500dc1d8e02...|f9e4b658b201a9f2e...|           5|                null|                  null| 2018-02-17 00:00:00|    2018-02-18 14:36:24|\n|e64fb393e7b32834b...|658677c97b385a9be...|           5|                null|  Recebi bem antes ...| 2017-04-21 00:00:00|    2017-04-21 22:02:06|\n|f7c4243c7fe1938f1...|8e6bfb81e283fa7e4...|           5|                null|  Parabéns lojas la...| 2018-03-01 00:00:00|    2018-03-02 10:26:53|\n+--------------------+--------------------+------------+--------------------+----------------------+--------------------+-----------------------+\nonly showing top 5 rows\n\n+--------------------+--------------------+------------+------------------------+-------------------+----------------------------+-----------------------------+-----------------------------+\n|            order_id|         customer_id|order_status|order_purchase_timestamp|  order_approved_at|order_delivered_carrier_date|order_delivered_customer_date|order_estimated_delivery_date|\n+--------------------+--------------------+------------+------------------------+-------------------+----------------------------+-----------------------------+-----------------------------+\n|e481f51cbdc54678b...|9ef432eb625129730...|   delivered|     2017-10-02 10:56:33|2017-10-02 11:07:15|         2017-10-04 19:55:00|          2017-10-10 21:25:13|          2017-10-18 00:00:00|\n|53cdb2fc8bc7dce0b...|b0830fb4747a6c6d2...|   delivered|     2018-07-24 20:41:37|2018-07-26 03:24:27|         2018-07-26 14:31:00|          2018-08-07 15:27:45|          2018-08-13 00:00:00|\n|47770eb9100c2d0c4...|41ce2a54c0b03bf34...|   delivered|     2018-08-08 08:38:49|2018-08-08 08:55:23|         2018-08-08 13:50:00|          2018-08-17 18:06:29|          2018-09-04 00:00:00|\n|949d5b44dbf5de918...|f88197465ea7920ad...|   delivered|     2017-11-18 19:28:06|2017-11-18 19:45:59|         2017-11-22 13:39:59|          2017-12-02 00:28:42|          2017-12-15 00:00:00|\n|ad21c59c0840e6cb8...|8ab97904e6daea886...|   delivered|     2018-02-13 21:18:39|2018-02-13 22:20:29|         2018-02-14 19:46:34|          2018-02-16 18:17:02|          2018-02-26 00:00:00|\n+--------------------+--------------------+------------+------------------------+-------------------+----------------------------+-----------------------------+-----------------------------+\nonly showing top 5 rows\n\n+--------------------+---------------------+-------------------+--------------------------+------------------+----------------+-----------------+-----------------+----------------+\n|          product_id|product_category_name|product_name_lenght|product_description_lenght|product_photos_qty|product_weight_g|product_length_cm|product_height_cm|product_width_cm|\n+--------------------+---------------------+-------------------+--------------------------+------------------+----------------+-----------------+-----------------+----------------+\n|1e9e8ef04dbcff454...|           perfumaria|                 40|                       287|                 1|             225|               16|               10|              14|\n|3aa071139cb16b67c...|                artes|                 44|                       276|                 1|            1000|               30|               18|              20|\n|96bd76ec8810374ed...|        esporte_lazer|                 46|                       250|                 1|             154|               18|                9|              15|\n|cef67bcfe19066a93...|                bebes|                 27|                       261|                 1|             371|               26|                4|              26|\n|9dc1a7de274444849...| utilidades_domest...|                 37|                       402|                 4|             625|               20|               17|              13|\n+--------------------+---------------------+-------------------+--------------------------+------------------+----------------+-----------------+-----------------+----------------+\nonly showing top 5 rows\n\n+--------------------+----------------------+-----------------+------------+\n|           seller_id|seller_zip_code_prefix|      seller_city|seller_state|\n+--------------------+----------------------+-----------------+------------+\n|3442f8959a84dea7e...|                 13023|         campinas|          SP|\n|d1b65fc7debc3361e...|                 13844|       mogi guacu|          SP|\n|ce3ad9de960102d06...|                 20031|   rio de janeiro|          RJ|\n|c0f3eea2e14555b6f...|                  4195|        sao paulo|          SP|\n|51a04a8a6bdcb23de...|                 12914|braganca paulista|          SP|\n+--------------------+----------------------+-----------------+------------+\nonly showing top 5 rows\n\n"
     ]
    }
   ],
   "source": [
    "customers_df.show(5)\n",
    "geolocation_df.show(5)\n",
    "order_items_df.show(5)\n",
    "order_payments_df.show(5)\n",
    "order_reviews_df.show(5)\n",
    "orders_df.show(5)\n",
    "products_df.show(5)\n",
    "sellers_df.show(5)\n"
   ]
  },
  {
   "cell_type": "markdown",
   "metadata": {
    "application/vnd.databricks.v1+cell": {
     "cellMetadata": {},
     "inputWidgets": {},
     "nuid": "7b115854-adb3-4b34-b368-a5e6bb65779b",
     "showTitle": false,
     "title": ""
    }
   },
   "source": [
    "Total rows and columns"
   ]
  },
  {
   "cell_type": "code",
   "execution_count": 0,
   "metadata": {
    "application/vnd.databricks.v1+cell": {
     "cellMetadata": {
      "byteLimit": 2048000,
      "rowLimit": 10000
     },
     "inputWidgets": {},
     "nuid": "40eb85d7-a167-4740-bb0b-0e68c87b95ca",
     "showTitle": false,
     "title": ""
    }
   },
   "outputs": [
    {
     "output_type": "stream",
     "name": "stdout",
     "output_type": "stream",
     "text": [
      "Customers DataFrame has 99441 rows and 5 columns.\nGeolocation DataFrame has 1000163 rows and 5 columns.\nOrder Items DataFrame has 112650 rows and 7 columns.\nOrder Payments DataFrame has 103886 rows and 5 columns.\nOrder Reviews DataFrame has 104162 rows and 7 columns.\nOrders DataFrame has 99441 rows and 8 columns.\nProducts DataFrame has 32951 rows and 9 columns.\nSellers DataFrame has 3095 rows and 4 columns.\n"
     ]
    }
   ],
   "source": [
    "for df, name in [(customers_df, \"Customers\"), (geolocation_df, \"Geolocation\"), \n",
    "                 (order_items_df, \"Order Items\"), (order_payments_df, \"Order Payments\"), \n",
    "                 (order_reviews_df, \"Order Reviews\"), (orders_df, \"Orders\"), \n",
    "                 (products_df, \"Products\"), (sellers_df, \"Sellers\")]:\n",
    "    print(f\"{name} DataFrame has {df.count()} rows and {len(df.columns)} columns.\")\n"
   ]
  },
  {
   "cell_type": "markdown",
   "metadata": {
    "application/vnd.databricks.v1+cell": {
     "cellMetadata": {},
     "inputWidgets": {},
     "nuid": "d6df7edd-c721-4f94-8ef2-da32f24debf7",
     "showTitle": false,
     "title": ""
    }
   },
   "source": [
    "Checking for null value"
   ]
  },
  {
   "cell_type": "code",
   "execution_count": 0,
   "metadata": {
    "application/vnd.databricks.v1+cell": {
     "cellMetadata": {
      "byteLimit": 2048000,
      "rowLimit": 10000
     },
     "inputWidgets": {},
     "nuid": "4f480f66-df9a-4116-9aed-fb673abcf860",
     "showTitle": false,
     "title": ""
    }
   },
   "outputs": [
    {
     "output_type": "stream",
     "name": "stdout",
     "output_type": "stream",
     "text": [
      "Null values in Customers DataFrame:\n+-----------+------------------+------------------------+-------------+--------------+\n|customer_id|customer_unique_id|customer_zip_code_prefix|customer_city|customer_state|\n+-----------+------------------+------------------------+-------------+--------------+\n|          0|                 0|                       0|            0|             0|\n+-----------+------------------+------------------------+-------------+--------------+\n\nNull values in Geolocation DataFrame:\n+---------------------------+---------------+---------------+----------------+-----------------+\n|geolocation_zip_code_prefix|geolocation_lat|geolocation_lng|geolocation_city|geolocation_state|\n+---------------------------+---------------+---------------+----------------+-----------------+\n|                          0|              0|              0|               0|                0|\n+---------------------------+---------------+---------------+----------------+-----------------+\n\nNull values in Order Items DataFrame:\n+--------+-------------+----------+---------+-------------------+-----+-------------+\n|order_id|order_item_id|product_id|seller_id|shipping_limit_date|price|freight_value|\n+--------+-------------+----------+---------+-------------------+-----+-------------+\n|       0|            0|         0|        0|                  0|    0|            0|\n+--------+-------------+----------+---------+-------------------+-----+-------------+\n\nNull values in Order Payments DataFrame:\n+--------+------------------+------------+--------------------+-------------+\n|order_id|payment_sequential|payment_type|payment_installments|payment_value|\n+--------+------------------+------------+--------------------+-------------+\n|       0|                 0|           0|                   0|            0|\n+--------+------------------+------------+--------------------+-------------+\n\nNull values in Order Reviews DataFrame:\n+---------+--------+------------+--------------------+----------------------+--------------------+-----------------------+\n|review_id|order_id|review_score|review_comment_title|review_comment_message|review_creation_date|review_answer_timestamp|\n+---------+--------+------------+--------------------+----------------------+--------------------+-----------------------+\n|        1|    2236|        2380|               92157|                 63079|                8764|                   8785|\n+---------+--------+------------+--------------------+----------------------+--------------------+-----------------------+\n\nNull values in Orders DataFrame:\n+--------+-----------+------------+------------------------+-----------------+----------------------------+-----------------------------+-----------------------------+\n|order_id|customer_id|order_status|order_purchase_timestamp|order_approved_at|order_delivered_carrier_date|order_delivered_customer_date|order_estimated_delivery_date|\n+--------+-----------+------------+------------------------+-----------------+----------------------------+-----------------------------+-----------------------------+\n|       0|          0|           0|                       0|              160|                        1783|                         2965|                            0|\n+--------+-----------+------------+------------------------+-----------------+----------------------------+-----------------------------+-----------------------------+\n\nNull values in Products DataFrame:\n+----------+---------------------+-------------------+--------------------------+------------------+----------------+-----------------+-----------------+----------------+\n|product_id|product_category_name|product_name_lenght|product_description_lenght|product_photos_qty|product_weight_g|product_length_cm|product_height_cm|product_width_cm|\n+----------+---------------------+-------------------+--------------------------+------------------+----------------+-----------------+-----------------+----------------+\n|         0|                  610|                610|                       610|               610|               2|                2|                2|               2|\n+----------+---------------------+-------------------+--------------------------+------------------+----------------+-----------------+-----------------+----------------+\n\nNull values in Sellers DataFrame:\n+---------+----------------------+-----------+------------+\n|seller_id|seller_zip_code_prefix|seller_city|seller_state|\n+---------+----------------------+-----------+------------+\n|        0|                     0|          0|           0|\n+---------+----------------------+-----------+------------+\n\n"
     ]
    }
   ],
   "source": [
    "from pyspark.sql.functions import col, count, when\n",
    "\n",
    "for df, name in [(customers_df, \"Customers\"), (geolocation_df, \"Geolocation\"), \n",
    "                 (order_items_df, \"Order Items\"), (order_payments_df, \"Order Payments\"), \n",
    "                 (order_reviews_df, \"Order Reviews\"), (orders_df, \"Orders\"), \n",
    "                 (products_df, \"Products\"), (sellers_df, \"Sellers\")]:\n",
    "    print(f\"Null values in {name} DataFrame:\")\n",
    "    df.select([count(when(col(c).isNull(), c)).alias(c) for c in df.columns]).show()\n"
   ]
  },
  {
   "cell_type": "markdown",
   "metadata": {
    "application/vnd.databricks.v1+cell": {
     "cellMetadata": {},
     "inputWidgets": {},
     "nuid": "7a8d49e4-3090-4a08-bf19-fb7711780245",
     "showTitle": false,
     "title": ""
    }
   },
   "source": [
    "Basic statitstics"
   ]
  },
  {
   "cell_type": "code",
   "execution_count": 0,
   "metadata": {
    "application/vnd.databricks.v1+cell": {
     "cellMetadata": {
      "byteLimit": 2048000,
      "rowLimit": 10000
     },
     "inputWidgets": {},
     "nuid": "5d53ce28-baac-4d80-8ab0-05ee9606453d",
     "showTitle": false,
     "title": ""
    }
   },
   "outputs": [
    {
     "output_type": "stream",
     "name": "stdout",
     "output_type": "stream",
     "text": [
      "Basic statistics for Customers DataFrame:\n+-------+--------------------+--------------------+------------------------+-------------------+--------------+\n|summary|         customer_id|  customer_unique_id|customer_zip_code_prefix|      customer_city|customer_state|\n+-------+--------------------+--------------------+------------------------+-------------------+--------------+\n|  count|               99441|               99441|                   99441|              99441|         99441|\n|   mean|                null|                null|       35137.47458291851|               null|          null|\n| stddev|                null|                null|       29797.93899620613|               null|          null|\n|    min|00012a2ce6f8dcda2...|0000366f3b9a7992b...|                    1003|abadia dos dourados|            AC|\n|    max|ffffe8b65bbe3087b...|ffffd2657e2aad290...|                   99990|             zortea|            TO|\n+-------+--------------------+--------------------+------------------------+-------------------+--------------+\n\nBasic statistics for Geolocation DataFrame:\n+-------+---------------------------+-------------------+-------------------+----------------+-----------------+\n|summary|geolocation_zip_code_prefix|    geolocation_lat|    geolocation_lng|geolocation_city|geolocation_state|\n+-------+---------------------------+-------------------+-------------------+----------------+-----------------+\n|  count|                    1000163|            1000163|            1000163|         1000163|          1000163|\n|   mean|          36574.16646586607|-21.176152910383912| -46.39054132093581|            null|             null|\n| stddev|         30549.335710319807|  5.715866308822884|  4.269748306619736|            null|             null|\n|    min|                       1001|  -36.6053744107061|-101.46676644931476|        * cidade|               AC|\n|    max|                      99990|  45.06593318269697| 121.10539381057764|            óleo|               TO|\n+-------+---------------------------+-------------------+-------------------+----------------+-----------------+\n\nBasic statistics for Order Items DataFrame:\n+-------+--------------------+------------------+--------------------+--------------------+------------------+------------------+\n|summary|            order_id|     order_item_id|          product_id|           seller_id|             price|     freight_value|\n+-------+--------------------+------------------+--------------------+--------------------+------------------+------------------+\n|  count|              112650|            112650|              112650|              112650|            112650|            112650|\n|   mean|                null|1.1978339991122948|                null|                null|120.65373901464174|19.990319928982977|\n| stddev|                null|0.7051240313951721|                null|                null| 183.6339280502595|15.806405412297098|\n|    min|00010242fe8c5a6d1...|                 1|00066f42aeeb9f300...|0015a82c2db000af6...|              0.85|               0.0|\n|    max|fffe41c64501cc87c...|                21|fffe9eeff12fcbd74...|ffff564a4f9085cd2...|            6735.0|            409.68|\n+-------+--------------------+------------------+--------------------+--------------------+------------------+------------------+\n\nBasic statistics for Order Payments DataFrame:\n+-------+--------------------+------------------+------------+--------------------+------------------+\n|summary|            order_id|payment_sequential|payment_type|payment_installments|     payment_value|\n+-------+--------------------+------------------+------------+--------------------+------------------+\n|  count|              103886|            103886|      103886|              103886|            103886|\n|   mean|                null|1.0926785129853878|        null|   2.853348863176944|154.10038041698792|\n| stddev|                null|0.7065837791949958|        null|   2.687050673856492|  217.494063864724|\n|    min|00010242fe8c5a6d1...|                 1|      boleto|                   0|               0.0|\n|    max|fffe41c64501cc87c...|                29|     voucher|                  24|          13664.08|\n+-------+--------------------+------------------+------------+--------------------+------------------+\n\nBasic statistics for Order Reviews DataFrame:\n+-------+------------------+--------------------+--------------------+--------------------+----------------------+--------------------+-----------------------+\n|summary|         review_id|            order_id|        review_score|review_comment_title|review_comment_message|review_creation_date|review_answer_timestamp|\n+-------+------------------+--------------------+--------------------+--------------------+----------------------+--------------------+-----------------------+\n|  count|            104161|              101926|              101782|               12005|                 41083|               95398|                  95377|\n|   mean|               4.5|                 0.0|   4.087204087597126|3.165434995880696E10|     8.172413793103448|                null|                   null|\n| stddev|0.7071067811865476|                 0.0|  1.3750046423971858|5.625434750908947E11|    3.1175650470615843|                null|                   null|\n|    min|                 \"|                    |                   \"|                    |                    \\n| FOI A MINHA PRIM...|    POIS NÃO CUMPREM...|\n|    max|     🤙🏼👏🏼👏🏼\"|visando sempre o ...|seria mais coeren...|                 🔟 |  😡😡😡😡😡👎👎👎?...|veio bem embalada...|              70 + R$15|\n+-------+------------------+--------------------+--------------------+--------------------+----------------------+--------------------+-----------------------+\n\nBasic statistics for Orders DataFrame:\n+-------+--------------------+--------------------+------------+\n|summary|            order_id|         customer_id|order_status|\n+-------+--------------------+--------------------+------------+\n|  count|               99441|               99441|       99441|\n|   mean|                null|                null|        null|\n| stddev|                null|                null|        null|\n|    min|00010242fe8c5a6d1...|00012a2ce6f8dcda2...|    approved|\n|    max|fffe41c64501cc87c...|ffffe8b65bbe3087b...| unavailable|\n+-------+--------------------+--------------------+------------+\n\nBasic statistics for Products DataFrame:\n+-------+--------------------+---------------------+-------------------+--------------------------+------------------+------------------+------------------+------------------+------------------+\n|summary|          product_id|product_category_name|product_name_lenght|product_description_lenght|product_photos_qty|  product_weight_g| product_length_cm| product_height_cm|  product_width_cm|\n+-------+--------------------+---------------------+-------------------+--------------------------+------------------+------------------+------------------+------------------+------------------+\n|  count|               32951|                32341|              32341|                     32341|             32341|             32949|             32949|             32949|             32949|\n|   mean|                null|                 null|  48.47694876472589|         771.4952846232337|2.1889861166939797|2276.4724877841513| 30.81507784758263|16.937661234028347|23.196728277034204|\n| stddev|                null|                 null| 10.245740725237287|         635.1152246349538|1.7367656379315435| 4282.038730977024|16.914458054065953|13.637554061749569|12.079047453227794|\n|    min|00066f42aeeb9f300...| agro_industria_e_...|                  5|                         4|                 1|                 0|                 7|                 2|                 6|\n|    max|fffe9eeff12fcbd74...| utilidades_domest...|                 76|                      3992|                20|             40425|               105|               105|               118|\n+-------+--------------------+---------------------+-------------------+--------------------------+------------------+------------------+------------------+------------------+------------------+\n\nBasic statistics for Sellers DataFrame:\n+-------+--------------------+----------------------+-----------+------------+\n|summary|           seller_id|seller_zip_code_prefix|seller_city|seller_state|\n+-------+--------------------+----------------------+-----------+------------+\n|  count|                3095|                  3095|       3095|        3095|\n|   mean|                null|    32291.059450726978|  4482255.0|        null|\n| stddev|                null|     32713.45382950901|       null|        null|\n|    min|0015a82c2db000af6...|                  1001|   04482255|          AC|\n|    max|ffff564a4f9085cd2...|                 99730|      xaxim|          SP|\n+-------+--------------------+----------------------+-----------+------------+\n\n"
     ]
    }
   ],
   "source": [
    "for df, name in [(customers_df, \"Customers\"), (geolocation_df, \"Geolocation\"), \n",
    "                 (order_items_df, \"Order Items\"), (order_payments_df, \"Order Payments\"), \n",
    "                 (order_reviews_df, \"Order Reviews\"), (orders_df, \"Orders\"), \n",
    "                 (products_df, \"Products\"), (sellers_df, \"Sellers\")]:\n",
    "    print(f\"Basic statistics for {name} DataFrame:\")\n",
    "    df.describe().show()\n"
   ]
  },
  {
   "cell_type": "markdown",
   "metadata": {
    "application/vnd.databricks.v1+cell": {
     "cellMetadata": {},
     "inputWidgets": {},
     "nuid": "8827bf13-54b6-41be-8b2f-d75e5ad9a0ed",
     "showTitle": false,
     "title": ""
    }
   },
   "source": [
    "Summary of Categorical Variables"
   ]
  },
  {
   "cell_type": "code",
   "execution_count": 0,
   "metadata": {
    "application/vnd.databricks.v1+cell": {
     "cellMetadata": {
      "byteLimit": 2048000,
      "rowLimit": 10000
     },
     "inputWidgets": {},
     "nuid": "ade29a96-2f3c-4c58-a900-062410c15aa8",
     "showTitle": false,
     "title": ""
    }
   },
   "outputs": [
    {
     "output_type": "stream",
     "name": "stdout",
     "output_type": "stream",
     "text": [
      "Unique value counts in Customers DataFrame:\n+--------------------+-----+\n|       customer_city|count|\n+--------------------+-----+\n|           sao paulo|15540|\n|      rio de janeiro| 6882|\n|      belo horizonte| 2773|\n|            brasilia| 2131|\n|            curitiba| 1521|\n|            campinas| 1444|\n|        porto alegre| 1379|\n|            salvador| 1245|\n|           guarulhos| 1189|\n|sao bernardo do c...|  938|\n|             niteroi|  849|\n|         santo andre|  797|\n|              osasco|  746|\n|              santos|  713|\n|             goiania|  692|\n| sao jose dos campos|  691|\n|           fortaleza|  654|\n|            sorocaba|  633|\n|              recife|  613|\n|       florianopolis|  570|\n+--------------------+-----+\nonly showing top 20 rows\n\n+--------------+-----+\n|customer_state|count|\n+--------------+-----+\n|            SP|41746|\n|            RJ|12852|\n|            MG|11635|\n|            RS| 5466|\n|            PR| 5045|\n|            SC| 3637|\n|            BA| 3380|\n|            DF| 2140|\n|            ES| 2033|\n|            GO| 2020|\n|            PE| 1652|\n|            CE| 1336|\n|            PA|  975|\n|            MT|  907|\n|            MA|  747|\n|            MS|  715|\n|            PB|  536|\n|            PI|  495|\n|            RN|  485|\n|            AL|  413|\n+--------------+-----+\nonly showing top 20 rows\n\nUnique value counts in Orders DataFrame:\n+------------+-----+\n|order_status|count|\n+------------+-----+\n|   delivered|96478|\n|     shipped| 1107|\n|    canceled|  625|\n| unavailable|  609|\n|    invoiced|  314|\n|  processing|  301|\n|     created|    5|\n|    approved|    2|\n+------------+-----+\n\nUnique value counts in Products DataFrame:\n+---------------------+-----+\n|product_category_name|count|\n+---------------------+-----+\n|      cama_mesa_banho| 3029|\n|        esporte_lazer| 2867|\n|     moveis_decoracao| 2657|\n|         beleza_saude| 2444|\n| utilidades_domest...| 2335|\n|           automotivo| 1900|\n| informatica_acess...| 1639|\n|           brinquedos| 1411|\n|   relogios_presentes| 1329|\n|            telefonia| 1134|\n|                bebes|  919|\n|           perfumaria|  868|\n| fashion_bolsas_e_...|  849|\n|            papelaria|  849|\n|           cool_stuff|  789|\n|   ferramentas_jardim|  753|\n|             pet_shop|  719|\n|                 null|  610|\n|          eletronicos|  517|\n| construcao_ferram...|  400|\n+---------------------+-----+\nonly showing top 20 rows\n\nUnique value counts in Sellers DataFrame:\n+--------------------+-----+\n|         seller_city|count|\n+--------------------+-----+\n|           sao paulo|  694|\n|            curitiba|  127|\n|      rio de janeiro|   96|\n|      belo horizonte|   68|\n|      ribeirao preto|   52|\n|           guarulhos|   50|\n|            ibitinga|   49|\n|         santo andre|   45|\n|            campinas|   41|\n|             maringa|   40|\n|sao jose do rio p...|   33|\n|sao bernardo do c...|   32|\n|              osasco|   32|\n|            sorocaba|   32|\n|        porto alegre|   28|\n|            brasilia|   28|\n|            londrina|   26|\n|             goiania|   23|\n|           joinville|   22|\n|            blumenau|   21|\n+--------------------+-----+\nonly showing top 20 rows\n\n+------------+-----+\n|seller_state|count|\n+------------+-----+\n|          SP| 1849|\n|          PR|  349|\n|          MG|  244|\n|          SC|  190|\n|          RJ|  171|\n|          RS|  129|\n|          GO|   40|\n|          DF|   30|\n|          ES|   23|\n|          BA|   19|\n|          CE|   13|\n|          PE|    9|\n|          PB|    6|\n|          MS|    5|\n|          RN|    5|\n|          MT|    4|\n|          RO|    2|\n|          SE|    2|\n|          PI|    1|\n|          AM|    1|\n+------------+-----+\nonly showing top 20 rows\n\n"
     ]
    }
   ],
   "source": [
    "from pyspark.sql.functions import countDistinct\n",
    "\n",
    "for df, name, cols in [(customers_df, \"Customers\", [\"customer_city\", \"customer_state\"]),\n",
    "                       (orders_df, \"Orders\", [\"order_status\"]),\n",
    "                       (products_df, \"Products\", [\"product_category_name\"]),\n",
    "                       (sellers_df, \"Sellers\", [\"seller_city\", \"seller_state\"])]:\n",
    "    print(f\"Unique value counts in {name} DataFrame:\")\n",
    "    for col in cols:\n",
    "        df.groupBy(col).count().orderBy(\"count\", ascending=False).show()\n"
   ]
  },
  {
   "cell_type": "markdown",
   "metadata": {
    "application/vnd.databricks.v1+cell": {
     "cellMetadata": {},
     "inputWidgets": {},
     "nuid": "a8065275-fd58-4db1-abb9-9307850068e6",
     "showTitle": false,
     "title": ""
    }
   },
   "source": [
    "Finding duplicates row "
   ]
  },
  {
   "cell_type": "code",
   "execution_count": 0,
   "metadata": {
    "application/vnd.databricks.v1+cell": {
     "cellMetadata": {
      "byteLimit": 2048000,
      "rowLimit": 10000
     },
     "inputWidgets": {},
     "nuid": "a285e250-8fe1-43c0-8f2e-cb903967400e",
     "showTitle": false,
     "title": ""
    }
   },
   "outputs": [
    {
     "output_type": "stream",
     "name": "stdout",
     "output_type": "stream",
     "text": [
      "Customers DataFrame has 0 duplicate rows.\nGeolocation DataFrame has 261831 duplicate rows.\nOrder Items DataFrame has 0 duplicate rows.\nOrder Payments DataFrame has 0 duplicate rows.\nOrder Reviews DataFrame has 85 duplicate rows.\nOrders DataFrame has 0 duplicate rows.\nProducts DataFrame has 0 duplicate rows.\nSellers DataFrame has 0 duplicate rows.\n"
     ]
    }
   ],
   "source": [
    "for df, name in [(customers_df, \"Customers\"), (geolocation_df, \"Geolocation\"), \n",
    "                 (order_items_df, \"Order Items\"), (order_payments_df, \"Order Payments\"), \n",
    "                 (order_reviews_df, \"Order Reviews\"), (orders_df, \"Orders\"), \n",
    "                 (products_df, \"Products\"), (sellers_df, \"Sellers\")]:\n",
    "    duplicates = df.count() - df.dropDuplicates().count()\n",
    "    print(f\"{name} DataFrame has {duplicates} duplicate rows.\")\n"
   ]
  },
  {
   "cell_type": "markdown",
   "metadata": {
    "application/vnd.databricks.v1+cell": {
     "cellMetadata": {},
     "inputWidgets": {},
     "nuid": "0707f9c0-4732-4ea9-9d97-a7d5a2555933",
     "showTitle": false,
     "title": ""
    }
   },
   "source": [
    "Making temporary views "
   ]
  },
  {
   "cell_type": "code",
   "execution_count": 0,
   "metadata": {
    "application/vnd.databricks.v1+cell": {
     "cellMetadata": {
      "byteLimit": 2048000,
      "rowLimit": 10000
     },
     "inputWidgets": {},
     "nuid": "400eef5b-69a6-4bee-97e7-9598bb8496f3",
     "showTitle": false,
     "title": ""
    }
   },
   "outputs": [],
   "source": [
    "customers_df.createOrReplaceTempView(\"customers\")\n",
    "geolocation_df.createOrReplaceTempView(\"geolocation\")\n",
    "order_items_df.createOrReplaceTempView(\"order_items\")\n",
    "order_payments_df.createOrReplaceTempView(\"order_payments\")\n",
    "order_reviews_df.createOrReplaceTempView(\"order_reviews\")\n",
    "orders_df.createOrReplaceTempView(\"orders\")\n",
    "products_df.createOrReplaceTempView(\"products\")\n",
    "sellers_df.createOrReplaceTempView(\"sellers\")\n"
   ]
  },
  {
   "cell_type": "markdown",
   "metadata": {
    "application/vnd.databricks.v1+cell": {
     "cellMetadata": {},
     "inputWidgets": {},
     "nuid": "ffe87fc7-9748-43cf-8927-9c6b66cdb3ba",
     "showTitle": false,
     "title": ""
    }
   },
   "source": []
  },
  {
   "cell_type": "code",
   "execution_count": 0,
   "metadata": {
    "application/vnd.databricks.v1+cell": {
     "cellMetadata": {},
     "inputWidgets": {},
     "nuid": "d94973bc-43e1-4333-b7e5-1e5370f8184e",
     "showTitle": false,
     "title": ""
    }
   },
   "outputs": [],
   "source": []
  }
 ],
 "metadata": {
  "application/vnd.databricks.v1+notebook": {
   "dashboards": [],
   "environmentMetadata": null,
   "language": "python",
   "notebookMetadata": {
    "mostRecentlyExecutedCommandWithImplicitDF": {
     "commandId": 4055716641594988,
     "dataframes": [
      "_sqldf"
     ]
    },
    "pythonIndentUnit": 4
   },
   "notebookName": "Assignment 2 Part 1",
   "widgets": {}
  }
 },
 "nbformat": 4,
 "nbformat_minor": 0
}
